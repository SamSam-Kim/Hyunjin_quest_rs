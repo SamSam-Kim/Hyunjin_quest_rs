{
 "cells": [
  {
   "cell_type": "code",
   "execution_count": null,
   "id": "10188cd9",
   "metadata": {},
   "outputs": [],
   "source": [
    "\n",
    "import os \n",
    "import cv2 # OpenCV라이브러리 → 컴퓨터 비전 관련 프로그래밍을 쉽게 할 수 있도록 도와주는 라이브러리\n",
    "import matplotlib.pyplot as plt \n",
    "import numpy as np \n",
    "import dlib \n",
    "\n",
    "my_image_path = r'C:\\Users\\hjin0\\Desktop\\aiffel\\camera_sticker\\image\\1.png' \n",
    "img_bgr = cv2.imread(my_image_path)    # OpenCV로 이미지를 불러옵니다\n",
    "img_show = img_bgr.copy()      # 출력용 이미지를 따로 보관합니다\n",
    "plt.imshow(img_bgr) # 이미지를 출력하기 위해 출력할 이미지를 올려준다. (실제 출력은 하지 않음)\n",
    "plt.show() "
   ]
  },
  {
   "cell_type": "code",
   "execution_count": null,
   "id": "306077dc",
   "metadata": {},
   "outputs": [],
   "source": [
    "from IPython.display import Markdown, display\n",
    "\n",
    "# cv2.imread()로 읽어온 이미지는 BGR형식으로 읽어온다.\n",
    "img_rgb = cv2.cvtColor(img_bgr, cv2.COLOR_BGR2RGB)\n",
    "plt.imshow(img_rgb) # 이미지 실제 출력하기 위해 이미지를 올려줌 (원하는 사이즈의 픽셀을 원하는 색으로 채워서 만든 그림이라고 합니다.)\n",
    "plt.show()"
   ]
  },
  {
   "cell_type": "markdown",
   "id": "d739af5a",
   "metadata": {},
   "source": [
    "![02.png](./02.png)\n",
    "#2번째 이미지\n",
    "![002.png](./002.png)"
   ]
  },
  {
   "cell_type": "code",
   "execution_count": null,
   "id": "2ce949da",
   "metadata": {},
   "outputs": [],
   "source": [
    "# dlib 라이브러리의 get_frontal_face_detector() 함수를 사용하여 얼굴을 감지하는 detector를 선언합니다.\n",
    "# dlib.get_frontal_face_detector()는 기본 얼굴 감지기를 반환합니다.\n",
    "# detector를 선언합니다\n",
    "detector_hog = dlib.get_frontal_face_detector() # 기본 얼굴 감지기를 반환\n",
    "img_rgb = cv2.cvtColor(img_bgr, cv2.COLOR_BGR2RGB)\n",
    "dlib_rects = detector_hog(img_rgb, 1)   # (image, num of image pyramid)\n",
    "\n",
    "from IPython.display import Markdown, display\n",
    "\n",
    "# 찾은 얼굴 영역 박스 리스트\n",
    "# 여러 얼굴이 있을 수 있습니다\n",
    "print(dlib_rects)   \n",
    "\n",
    "# dlib.rectangle 객체의 좌표를 확인합니다\n",
    "print(dlib_rects[0]) # dlib.rectangle 객체의 좌표를 확인합니다\n",
    "if len(dlib_rects) == 0:\n",
    "    print(\"얼굴을 찾을 수 없습니다.\")\n",
    "else:\n",
    "    for dlib_rect in dlib_rects: # 찾은 얼굴 영역의 좌표\n",
    "        l = dlib_rect.left() # 왼쪽\n",
    "        t = dlib_rect.top() # 위쪽\n",
    "        r = dlib_rect.right() # 오른쪽\n",
    "        b = dlib_rect.bottom() # 아래쪽\n",
    "\n",
    "        cv2.rectangle(img_show, (l,t), (r,b), (0,255,0), 2, lineType=cv2.LINE_AA) # 시작점의 좌표와 종료점 좌표로 직각 사각형을 그림\n",
    "# cv2.rectangle(이미지, 시작점 좌표, 종료점 좌표, 색상, 두께, 선 종류)\n",
    "# cv2.rectangle()는 OpenCV의 사각형을 그리는 함수\n",
    "# img_show: 이미지 위에 그려질 사각형 # (l,t): 시작점 좌표 # (r,b): 종료점 좌표 # (0,255,0): 색상 (BGR형식으로 지정) # 2: 두께# lineType=cv2.LINE_AA: 선 종류 (anti-aliased line)\n",
    "# cv2.LINE_AA: 부드러운 선을 그리는 방법 # cv2.rectangle()는 이미지 위에 사각형을 그리는 함수"
   ]
  },
  {
   "cell_type": "markdown",
   "id": "c8c23cec",
   "metadata": {},
   "source": [
    "#rectangles[[(683, 494) (838, 649)]]\n",
    "\n",
    "\n",
    "#2번쨰이미지는 못찾는거 같다\n",
    "\n",
    "![003.png](./003.png)\n",
    "![004.png](./004.png)"
   ]
  },
  {
   "cell_type": "code",
   "execution_count": null,
   "id": "32bbff3f",
   "metadata": {},
   "outputs": [],
   "source": [
    "from IPython.display import Markdown, display\n",
    "\n",
    "img_show_rgb =  cv2.cvtColor(img_show, cv2.COLOR_BGR2RGB)\n",
    "plt.imshow(img_show_rgb)\n",
    "plt.show()"
   ]
  },
  {
   "cell_type": "markdown",
   "id": "1b7bcb07",
   "metadata": {},
   "source": [
    "![03.png](./03.png)"
   ]
  },
  {
   "cell_type": "markdown",
   "id": "4e9965d1",
   "metadata": {},
   "source": [
    "# shape_predictor_68_face_landmarks.data다운받고 models에 저장"
   ]
  },
  {
   "cell_type": "code",
   "execution_count": null,
   "id": "c96c06e8",
   "metadata": {},
   "outputs": [],
   "source": [
    "model_path = r'C:\\Users\\hjin0\\Desktop\\aiffel\\camera_sticker\\models\\shape_predictor_68_face_landmarks.dat'\n",
    "    # 저장한 landmark 모델의 주소를 model_path 변수에 저장\n",
    "landmark_predictor = dlib.shape_predictor(model_path)\n",
    "    # dlib 라이브러리의 shape_predictor 함수를 이용하여 모델을 불러옴\n",
    "    # landmark_predictor는 RGB이미지와 dlib.rectangle를 입력 받고 dlib.full_object_detection를 반환\n",
    "    # dlib.rectangle: 내부를 예측하는 박스\n",
    "    # dlib.full_object_detection: 각 구성 요소의 위치와, 이미지 상의 객체의 위치를 나타냄\n",
    "\n",
    "\n",
    "\n",
    "list_landmarks = []\n",
    "    # 랜드마크의 위치를 저장할 list 생성    \n",
    "# 얼굴 영역 박스 마다 face landmark를 찾아냅니다\n",
    "# face landmark 좌표를 저장해둡니다\n",
    "for dlib_rect in dlib_rects:\n",
    "    points = landmark_predictor(img_rgb, dlib_rect)\n",
    "        # 모든 landmark의 위치정보를 points 변수에 저장\n",
    "    list_points = list(map(lambda p: (p.x, p.y), points.parts()))\n",
    "        # 각각의 landmark 위치정보를 (x,y) 형태로 변환하여 list_points 리스트로 저장\n",
    "    list_landmarks.append(list_points)\n",
    "        # list_landmarks에 랜드마크 리스트를 저장\n",
    "print(len(list_landmarks[0]))\n",
    "    # 얼굴이 n개인 경우 list_landmarks는 n개의 원소를 갖고\n",
    "    # 각 원소는 68개의 랜드마크 위치가 나열된 list \n",
    "    # list_landmarks의 원소가 1개이므로 list_landmarks[1]을 호출하면 IndexError가 발생\n",
    "# list_landmarks의 원소가 1개이므로 아래 반복문은 한번만 실행됨\n",
    "for landmark in list_landmarks:\n",
    "    for point in landmark:\n",
    "        cv2.circle(img_show, point, 2, (0, 255, 255), -1)\n",
    "            # cv2.circle: OpenCV의 원을 그리는 함수\n",
    "            # img_show 이미지 위 각각의 point에\n",
    "            # 크기가 2이고 (0, 255, 255)색으로 내부가 채워진(-1) 원을 그림\n",
    "            # (마지막 인수가 자연수라면 그만큼의 두께의 선으로 원이 그려짐)\n",
    "from IPython.display import Markdown, display\n",
    "\n",
    "img_show_rgb = cv2.cvtColor(img_show, cv2.COLOR_BGR2RGB)\n",
    "    # RGB 이미지로 전환\n",
    "plt.imshow(img_show_rgb)\n",
    "    # 이미지를 준비\n",
    "plt.show()\n"
   ]
  },
  {
   "cell_type": "code",
   "execution_count": null,
   "id": "8b42934e",
   "metadata": {},
   "outputs": [],
   "source": [
    "![04.png](./04.png)"
   ]
  },
  {
   "cell_type": "code",
   "execution_count": null,
   "id": "f72bb013",
   "metadata": {},
   "outputs": [],
   "source": [
    "sticker_path = 'C:/Users/hjin0/Desktop/aiffel/camera_sticker/image/cat.png'\n",
    "img_sticker = cv2.imread(sticker_path)\n",
    "\n",
    "# 랜드마크 추출\n",
    "landmarks = list_landmarks[0]\n",
    "\n",
    "# 수염 위치 계산\n",
    "nose_bottom = landmarks[33]\n",
    "mouth_top = landmarks[51]\n",
    "mustache_x = (nose_bottom[0] + mouth_top[0]) // 2 - 5\n",
    "mustache_y = (nose_bottom[1] + mouth_top[1]) // 2 - 25\n",
    "\n",
    "# 수염 크기 조정\n",
    "mouth_width = landmarks[54][0] - landmarks[48][0]\n",
    "scale_factor = mouth_width / img_sticker.shape[1] * 1.5\n",
    "img_sticker_resized = cv2.resize(img_sticker, None, fx=scale_factor, fy=scale_factor)\n",
    "\n",
    "# 수염 위치 설정\n",
    "refined_x = mustache_x - img_sticker_resized.shape[1] // 2\n",
    "refined_y = mustache_y - int(img_sticker_resized.shape[0] * 0.4)\n",
    "\n",
    "# 마스크 처리\n",
    "hsv_sticker = cv2.cvtColor(img_sticker_resized, cv2.COLOR_BGR2HSV)\n",
    "lower_white = np.array([0, 0, 200])\n",
    "upper_white = np.array([180, 30, 255])\n",
    "white_mask = cv2.inRange(hsv_sticker, lower_white, upper_white)\n",
    "mask = 255 - white_mask\n",
    "kernel = np.ones((3,3), np.uint8)\n",
    "mask = cv2.morphologyEx(mask, cv2.MORPH_OPEN, kernel)\n",
    "mask_3channel = cv2.merge([mask, mask, mask])\n",
    "\n",
    "# 합성 (랜드마크 없는 원본 이미지에서 영역 추출)\n",
    "sticker_area = img_bgr[refined_y:refined_y + img_sticker_resized.shape[0], \n",
    "                       refined_x:refined_x + img_sticker_resized.shape[1]]\n",
    "    \n",
    "img_bgr[refined_y:refined_y + img_sticker_resized.shape[0], \n",
    "        refined_x:refined_x + img_sticker_resized.shape[1]] = \\\n",
    "    np.where(mask_3channel > 0, img_sticker_resized, sticker_area).astype(np.uint8)\n",
    "\n",
    "# 결과 출력\n",
    "plt.imshow(cv2.cvtColor(img_bgr, cv2.COLOR_BGR2RGB))\n",
    "plt.show()\n"
   ]
  },
  {
   "cell_type": "markdown",
   "id": "b1c62a77",
   "metadata": {},
   "source": [
    "#cv2.addweighted를 사용했을떄\n",
    "![12.png](./12.png)\n",
    "\n",
    "#그냥 했을떄!\n",
    "[13.png](./13.png)\n",
    "\n",
    "#얼굴에 완전히 맞게 회전하는 일반화를 하려 했지만 실패\n",
    "![14.png](./14.png)\n",
    "![11.png](./11.png)"
   ]
  },
  {
   "cell_type": "code",
   "execution_count": null,
   "id": "507dbfee",
   "metadata": {},
   "outputs": [],
   "source": [
    "''' # 흰색 배경을 마스크로 변환 (HSV 색공간 사용)\n",
    "hsv_sticker = cv2.cvtColor(img_sticker, cv2.COLOR_BGR2HSV)\n",
    "lower_white = np.array([0, 0, 200])  # HSV에서 흰색의 하한값\n",
    "upper_white = np.array([180, 30, 255])  # HSV에서 흰색의 상한값\n",
    "white_mask = cv2.inRange(hsv_sticker, lower_white, upper_white)\n",
    "mask = 255 - white_mask  # 마스크 반전 (흰색을 0으로)\n",
    "\n",
    "# 마스크를 3채널로 확장 (BGR 이미지와 크기 맞추기)\n",
    "mask_3channel = cv2.merge([mask, mask, mask])\n",
    "\n",
    "# sticker_area는 원본이미지에서 스티커를 적용할 위치를 crop한 이미지\n",
    "sticker_area = img_show[int(refined_y):int(refined_y)+img_sticker.shape[0], \n",
    "                       int(refined_x):int(refined_x)+img_sticker.shape[1]]\n",
    "\n",
    "# 여기가 핵심! 생성한 마스크를 사용하여 합성\n",
    "img_show[int(refined_y):int(refined_y)+img_sticker.shape[0], \n",
    "        int(refined_x):int(refined_x)+img_sticker.shape[1]] = \\\n",
    "    np.where(mask_3channel > 0, img_sticker, sticker_area).astype(np.uint8)\n",
    "\n",
    "# 결과 확인\n",
    "plt.imshow(cv2.cvtColor(img_show, cv2.COLOR_BGR2RGB))\n",
    "plt.show()\n",
    "# ![09.png]\n",
    " '''"
   ]
  },
  {
   "cell_type": "code",
   "execution_count": null,
   "id": "388f87cb",
   "metadata": {},
   "outputs": [],
   "source": [
    "''' # 스티커 이미지와 원본 이미지 합성\n",
    "sticker_area = cv2.addWeighted(sticker_area, 0.7, img_sticker, 0.3, 0)\n",
    "# 수염 이미지\n",
    "sticker_area = img_bgr[int(refined_y):int(refined_y) + img_sticker.shape[0], int(refined_x):int(refined_x) + img_sticker.shape[1]]\n",
    "# img_bgr은 7-2에서 rgb로만 적용해놓은 원본 이미지이다. \n",
    "img_show[int(refined_y):int(refined_y)+img_sticker.shape[0], \n",
    "        int(refined_x):int(refined_x)+img_sticker.shape[1]] = \\\n",
    "    np.where(mask_3channel > 0, img_sticker, sticker_area).astype(np.uint8)\n",
    "plt.imshow(cv2.cvtColor(img_bgr, cv2.COLOR_BGR2RGB)) # rgb만 적용해놓은 원본 이미지에 왕관 이미지를 덮어 씌운 이미지가 나오게 된다.\n",
    "plt.show()\n",
    "#![10.png]\n",
    "# 원하는 시작점에 왔지만 수염의 좌우위치가 얼굴과 맞지 않아 다시 위에서 부터 수정을 한다.\n",
    "#![11.png] '''"
   ]
  }
 ],
 "metadata": {
  "kernelspec": {
   "display_name": "Python 3",
   "language": "python",
   "name": "python3"
  },
  "language_info": {
   "codemirror_mode": {
    "name": "ipython",
    "version": 3
   },
   "file_extension": ".py",
   "mimetype": "text/x-python",
   "name": "python",
   "nbconvert_exporter": "python",
   "pygments_lexer": "ipython3",
   "version": "3.11.9"
  }
 },
 "nbformat": 4,
 "nbformat_minor": 5
}

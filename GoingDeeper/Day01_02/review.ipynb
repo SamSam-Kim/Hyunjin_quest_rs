{
 "cells": [
  {
   "cell_type": "markdown",
   "id": "ab617562",
   "metadata": {},
   "source": [
    "# resnet_model.ipynb를 확인할 수 있는 링크\n",
    "https://nbviewer.org/github/hyunjin0101/AIFFEL_quest_rs/blob/master/GoingDeeper/Day01_02/resnet_model.ipynb"
   ]
  }
 ],
 "metadata": {
  "language_info": {
   "name": "python"
  }
 },
 "nbformat": 4,
 "nbformat_minor": 5
}
